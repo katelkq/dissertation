{
 "cells": [
  {
   "cell_type": "code",
   "execution_count": 4,
   "metadata": {},
   "outputs": [
    {
     "name": "stdout",
     "output_type": "stream",
     "text": [
      "The number of events in perf_list.txt: 1183\n"
     ]
    }
   ],
   "source": [
    "count = 0\n",
    "\n",
    "with open('../experiments/results/perf-list.txt', mode='r') as f:\n",
    "    for line in f:\n",
    "        for c in line:\n",
    "            if c == '[':\n",
    "                count += 1\n",
    "\n",
    "print(f'The number of events in perf_list.txt: {count}')"
   ]
  },
  {
   "cell_type": "code",
   "execution_count": null,
   "metadata": {},
   "outputs": [],
   "source": []
  }
 ],
 "metadata": {
  "kernelspec": {
   "display_name": "diss",
   "language": "python",
   "name": "python3"
  },
  "language_info": {
   "codemirror_mode": {
    "name": "ipython",
    "version": 3
   },
   "file_extension": ".py",
   "mimetype": "text/x-python",
   "name": "python",
   "nbconvert_exporter": "python",
   "pygments_lexer": "ipython3",
   "version": "3.10.14"
  }
 },
 "nbformat": 4,
 "nbformat_minor": 2
}
