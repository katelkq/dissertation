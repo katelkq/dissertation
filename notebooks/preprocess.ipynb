{
 "cells": [
  {
   "cell_type": "code",
   "execution_count": 1,
   "metadata": {},
   "outputs": [],
   "source": [
    "from fynesse import access, assess, address\n",
    "\n",
    "from functools import partial\n",
    "\n",
    "import matplotlib.pyplot as plt\n",
    "import numpy as np\n",
    "import pandas as pd\n"
   ]
  },
  {
   "cell_type": "code",
   "execution_count": 2,
   "metadata": {},
   "outputs": [],
   "source": [
    "models = ['resnet50', 'retinanet', 'unet', 'vitb16']\n",
    "\n",
    "# this is a total of 15 events\n",
    "events = ['instructions',\n",
    "'cache-misses',\n",
    "'cache-references',\n",
    "'L1-dcache-load-misses',\n",
    "'L1-dcache-loads',\n",
    "'L1-dcache-stores',\n",
    "'LLC-load-misses',\n",
    "'LLC-loads',\n",
    "'LLC-store-misses',\n",
    "'LLC-stores',\n",
    "'fp_arith_inst_retired.128b_packed_single',\n",
    "'fp_arith_inst_retired.256b_packed_single',\n",
    "'fp_arith_inst_retired.512b_packed_single',\n",
    "'fp_arith_inst_retired.scalar_double',\n",
    "'fp_arith_inst_retired.scalar_single']\n",
    "\n",
    "seeds = [0, 42, 137]"
   ]
  },
  {
   "cell_type": "markdown",
   "metadata": {},
   "source": [
    "## Data Clean-Up"
   ]
  },
  {
   "cell_type": "code",
   "execution_count": 3,
   "metadata": {},
   "outputs": [],
   "source": [
    "model = 'resnet50'\n",
    "seed = 42\n",
    "\n",
    "for trial in [1, 2, 3]:\n",
    "    for event in events:\n",
    "        event_hash = address.hash(event)\n",
    "        access.process(f'../experiments/results/t{trial}/{model}_{event_hash}_s{seed}.txt', f'./data/csv/t{trial}/{model}_{event_hash}_s{seed}.csv')\n"
   ]
  },
  {
   "cell_type": "code",
   "execution_count": 4,
   "metadata": {},
   "outputs": [],
   "source": [
    "model = 'resnet50'\n",
    "event = 'instructions'\n",
    "event_hash = address.hash(event)\n",
    "\n",
    "cycles = list(map(lambda x: int(x), [1e4, 2.5e4, 5e4, 7.5e4, 1e5, 2.5e5, 5e5, 7.5e5, 1e6, 2.5e6, 5e6, 7.5e6, 1e7]))\n",
    "\n",
    "for seed in seeds:\n",
    "    for cycle in cycles:\n",
    "        access.process(f'../experiments/results/sp/{model}_{event_hash}_s{seed}_c{cycle}.txt', f'./data/csv/sp/{model}_{event_hash}_s{seed}_c{cycle}.csv')"
   ]
  },
  {
   "cell_type": "code",
   "execution_count": 5,
   "metadata": {},
   "outputs": [],
   "source": [
    "for model in models:\n",
    "    for event in events:\n",
    "        for seed in seeds:\n",
    "            event_hash = address.hash(event)\n",
    "            access.process(f'../experiments/results/core/{model}_{event_hash}_s{seed}.txt', f'./data/csv/core/{model}_{event_hash}_s{seed}.csv')"
   ]
  },
  {
   "cell_type": "code",
   "execution_count": null,
   "metadata": {},
   "outputs": [],
   "source": []
  },
  {
   "cell_type": "markdown",
   "metadata": {},
   "source": [
    "## Data Preprocessing\n",
    "\n",
    "Each timeseries is parsed as np arrays. 100 such timeseries is stored together as a list.\n",
    "Each such list can be accessed by a two-layered dictionary object. The first level key is model name. The second level key is event name.\n",
    "One such dictionary is constructed for each seed value and pickled."
   ]
  },
  {
   "cell_type": "code",
   "execution_count": 6,
   "metadata": {},
   "outputs": [],
   "source": [
    "for seed in seeds:\n",
    "\n",
    "    master_dict = dict()\n",
    "\n",
    "    for model in models:\n",
    "        master_dict[model] = dict()\n",
    "        curr_dict = master_dict[model]\n",
    "\n",
    "        for event in events:\n",
    "            event_hash = address.hash(event)\n",
    "\n",
    "            df = access.load_df(f'./data/csv/core/{model}_{event_hash}_s{seed}.csv')\n",
    "            inferences = assess.extract_inferences(df)\n",
    "\n",
    "            curr_dict[event] = list(map(partial(address.make_timeseries, event=event), inferences))\n",
    "            \n",
    "    assess.make_pickle(f'./data/pickle/s{seed}.pickle', master_dict)"
   ]
  },
  {
   "cell_type": "code",
   "execution_count": null,
   "metadata": {},
   "outputs": [],
   "source": []
  }
 ],
 "metadata": {
  "kernelspec": {
   "display_name": "diss",
   "language": "python",
   "name": "python3"
  },
  "language_info": {
   "codemirror_mode": {
    "name": "ipython",
    "version": 3
   },
   "file_extension": ".py",
   "mimetype": "text/x-python",
   "name": "python",
   "nbconvert_exporter": "python",
   "pygments_lexer": "ipython3",
   "version": "3.10.14"
  }
 },
 "nbformat": 4,
 "nbformat_minor": 2
}
