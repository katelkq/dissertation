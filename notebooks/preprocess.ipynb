{
 "cells": [
  {
   "cell_type": "code",
   "execution_count": 1,
   "metadata": {},
   "outputs": [],
   "source": [
    "from fynesse import access, assess, address\n",
    "\n",
    "from functools import partial\n",
    "\n",
    "import matplotlib.pyplot as plt\n",
    "import numpy as np\n",
    "import pandas as pd\n"
   ]
  },
  {
   "cell_type": "code",
   "execution_count": 2,
   "metadata": {},
   "outputs": [],
   "source": [
    "from config import MODELS, EVENTS, SEEDS"
   ]
  },
  {
   "cell_type": "markdown",
   "metadata": {},
   "source": [
    "## Data Clean-Up"
   ]
  },
  {
   "cell_type": "code",
   "execution_count": 3,
   "metadata": {},
   "outputs": [],
   "source": [
    "for model in MODELS:\n",
    "    for event in EVENTS:\n",
    "        for seed in SEEDS:\n",
    "            event_hash = address.hash(event)\n",
    "            access.process(f'../experiments/results/core/{model}_{event_hash}_s{seed}.txt', f'./data/csv/core/{model}_{event_hash}_s{seed}.csv')"
   ]
  },
  {
   "cell_type": "markdown",
   "metadata": {},
   "source": [
    "## Data Preprocessing"
   ]
  },
  {
   "cell_type": "code",
   "execution_count": 4,
   "metadata": {},
   "outputs": [],
   "source": [
    "for seed in SEEDS:\n",
    "\n",
    "    master_dict = dict()\n",
    "\n",
    "    for model in MODELS:\n",
    "        master_dict[model] = dict()\n",
    "        curr_dict = master_dict[model]\n",
    "\n",
    "        for event in EVENTS:\n",
    "            event_hash = address.hash(event)\n",
    "\n",
    "            df = access.load_df(f'./data/csv/core/{model}_{event_hash}_s{seed}.csv')\n",
    "            inferences = assess.extract_inferences(df)\n",
    "\n",
    "            curr_dict[event] = list(map(partial(address.make_timeseries, event=event), inferences))\n",
    "            \n",
    "    assess.make_pickle(f'./data/pickle/s{seed}.pickle', master_dict)"
   ]
  },
  {
   "cell_type": "code",
   "execution_count": 5,
   "metadata": {},
   "outputs": [],
   "source": [
    "master_dict = dict()\n",
    "\n",
    "for model in MODELS:\n",
    "    master_dict[model] = dict()\n",
    "    curr_dict = master_dict[model]\n",
    "\n",
    "    for event in EVENTS:\n",
    "        event_hash = address.hash(event)\n",
    "        master_list = list()\n",
    "\n",
    "        for seed in SEEDS:\n",
    "\n",
    "            df = access.load_df(f'./data/csv/core/{model}_{event_hash}_s{seed}.csv')\n",
    "            inferences = assess.extract_inferences(df)\n",
    "\n",
    "            master_list += list(map(partial(address.make_timeseries, event=event), inferences))\n",
    "\n",
    "        curr_dict[event] = master_list\n",
    "            \n",
    "assess.make_pickle(f'./data/pickle/master.pickle', master_dict)"
   ]
  },
  {
   "cell_type": "code",
   "execution_count": null,
   "metadata": {},
   "outputs": [],
   "source": []
  }
 ],
 "metadata": {
  "kernelspec": {
   "display_name": "diss",
   "language": "python",
   "name": "python3"
  },
  "language_info": {
   "codemirror_mode": {
    "name": "ipython",
    "version": 3
   },
   "file_extension": ".py",
   "mimetype": "text/x-python",
   "name": "python",
   "nbconvert_exporter": "python",
   "pygments_lexer": "ipython3",
   "version": "3.10.14"
  }
 },
 "nbformat": 4,
 "nbformat_minor": 2
}
