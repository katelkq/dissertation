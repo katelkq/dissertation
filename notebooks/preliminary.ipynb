{
 "cells": [
  {
   "cell_type": "code",
   "execution_count": 4,
   "metadata": {},
   "outputs": [
    {
     "name": "stdout",
     "output_type": "stream",
     "text": [
      "The number of events in perf_list.txt: 1183\n"
     ]
    }
   ],
   "source": [
    "count = 0\n",
    "\n",
    "with open('../experiments/results/perf-list.txt', mode='r') as f:\n",
    "    for line in f:\n",
    "        for c in line:\n",
    "            if c == '[':\n",
    "                count += 1\n",
    "\n",
    "print(f'The number of events in perf_list.txt: {count}')"
   ]
  },
  {
   "cell_type": "code",
   "execution_count": 13,
   "metadata": {},
   "outputs": [
    {
     "data": {
      "text/plain": [
       "1365"
      ]
     },
     "execution_count": 13,
     "metadata": {},
     "output_type": "execute_result"
    }
   ],
   "source": [
    "from config import *\n",
    "from itertools import combinations\n",
    "\n",
    "len(list(combinations(EVENTS, 4)))"
   ]
  },
  {
   "cell_type": "code",
   "execution_count": 3,
   "metadata": {},
   "outputs": [],
   "source": [
    "from fynesse import access, assess, address\n",
    "import numpy as np"
   ]
  },
  {
   "cell_type": "code",
   "execution_count": 4,
   "metadata": {},
   "outputs": [
    {
     "data": {
      "text/plain": [
       "2"
      ]
     },
     "execution_count": 4,
     "metadata": {},
     "output_type": "execute_result"
    }
   ],
   "source": [
    "import editdistance\n",
    "editdistance.eval('banana', 'bahama')"
   ]
  },
  {
   "cell_type": "code",
   "execution_count": 5,
   "metadata": {},
   "outputs": [],
   "source": [
    "model2layers = assess.eat_pickle('./data/pickle/memo.pickle')\n",
    "\n",
    "# add <bos> and <eos> markers\n",
    "for model in model2layers.keys():\n",
    "    model2layers[model] = ['<bos>'] + model2layers[model] + ['<eos>']\n",
    "    \n",
    "# take note of all the tokens that have appeared\n",
    "all_tokens = set()\n",
    "\n",
    "for layers in model2layers.values():\n",
    "    for layer in layers:\n",
    "        all_tokens.add(layer)\n",
    "\n",
    "all_tokens = np.array(list(all_tokens))\n",
    "\n",
    "from sklearn.preprocessing import LabelEncoder\n",
    "\n",
    "le = LabelEncoder()\n",
    "le.fit(all_tokens)\n",
    "\n",
    "def model2seq(model):\n",
    "    layers = model2layers[model]\n",
    "    return le.transform(layers)"
   ]
  },
  {
   "cell_type": "code",
   "execution_count": 9,
   "metadata": {},
   "outputs": [
    {
     "data": {
      "text/plain": [
       "73"
      ]
     },
     "execution_count": 9,
     "metadata": {},
     "output_type": "execute_result"
    }
   ],
   "source": [
    "editdistance.eval(model2seq('resnet50'), model2seq('unet'))"
   ]
  },
  {
   "cell_type": "code",
   "execution_count": 10,
   "metadata": {},
   "outputs": [
    {
     "data": {
      "text/plain": [
       "array([ 0,  5,  4, 16, 13,  5,  4,  5,  4,  5,  4, 16,  5,  4,  5,  4,  5,\n",
       "        4,  5,  4, 16,  5,  4,  5,  4,  5,  4, 16,  5,  4,  5,  4,  5,  4,\n",
       "       16,  5,  4,  5,  4,  5,  4,  5,  4, 16,  5,  4,  5,  4,  5,  4, 16,\n",
       "        5,  4,  5,  4,  5,  4, 16,  5,  4,  5,  4,  5,  4, 16,  5,  4,  5,\n",
       "        4,  5,  4,  5,  4, 16,  5,  4,  5,  4,  5,  4, 16,  5,  4,  5,  4,\n",
       "        5,  4, 16,  5,  4,  5,  4,  5,  4, 16,  5,  4,  5,  4,  5,  4, 16,\n",
       "        5,  4,  5,  4,  5,  4, 16,  5,  4,  5,  4,  5,  4,  5,  4, 16,  5,\n",
       "        4,  5,  4,  5,  4, 16,  2, 12,  1])"
      ]
     },
     "execution_count": 10,
     "metadata": {},
     "output_type": "execute_result"
    }
   ],
   "source": [
    "model2seq('resnet50')"
   ]
  },
  {
   "cell_type": "code",
   "execution_count": 11,
   "metadata": {},
   "outputs": [
    {
     "data": {
      "text/plain": [
       "array([ 0,  5,  4, 16,  5,  4, 16, 13,  5,  4, 16,  5,  4, 16, 13,  5,  4,\n",
       "       16,  5,  4, 16, 13,  5,  4, 16,  5,  4, 16, 13,  5,  4, 16,  5,  4,\n",
       "       16,  6,  5,  4, 16,  5,  4, 16,  6,  5,  4, 16,  5,  4, 16,  6,  5,\n",
       "        4, 16,  5,  4, 16,  6,  5,  4, 16,  5,  4, 16,  5,  1])"
      ]
     },
     "execution_count": 11,
     "metadata": {},
     "output_type": "execute_result"
    }
   ],
   "source": [
    "model2seq('unet')"
   ]
  }
 ],
 "metadata": {
  "kernelspec": {
   "display_name": "diss",
   "language": "python",
   "name": "python3"
  },
  "language_info": {
   "codemirror_mode": {
    "name": "ipython",
    "version": 3
   },
   "file_extension": ".py",
   "mimetype": "text/x-python",
   "name": "python",
   "nbconvert_exporter": "python",
   "pygments_lexer": "ipython3",
   "version": "3.10.14"
  }
 },
 "nbformat": 4,
 "nbformat_minor": 2
}
